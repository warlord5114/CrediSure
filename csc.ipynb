{
 "cells": [
  {
   "cell_type": "code",
   "execution_count": 1,
   "id": "763ffe10-4915-4654-ae68-a7ed14111de0",
   "metadata": {},
   "outputs": [],
   "source": [
    "import pandas as pd\n",
    "import numpy as np\n",
    "from sklearn.model_selection import train_test_split\n",
    "from sklearn.preprocessing import StandardScaler\n",
    "from sklearn.ensemble import RandomForestClassifier, VotingClassifier\n",
    "from sklearn.linear_model import LogisticRegression\n",
    "from sklearn.svm import SVC\n",
    "from sklearn.neighbors import KNeighborsClassifier\n",
    "from sklearn.metrics import classification_report, accuracy_score, roc_auc_score\n",
    "from imblearn.over_sampling import SMOTE\n",
    "import shap\n",
    "import matplotlib.pyplot as plt\n",
    "import warnings\n",
    "warnings.filterwarnings('ignore')"
   ]
  },
  {
   "cell_type": "code",
   "execution_count": 2,
   "id": "16aba6e1-fde3-44c3-800c-aebfa2fc1e6b",
   "metadata": {},
   "outputs": [
    {
     "data": {
      "text/html": [
       "<div>\n",
       "<style scoped>\n",
       "    .dataframe tbody tr th:only-of-type {\n",
       "        vertical-align: middle;\n",
       "    }\n",
       "\n",
       "    .dataframe tbody tr th {\n",
       "        vertical-align: top;\n",
       "    }\n",
       "\n",
       "    .dataframe thead th {\n",
       "        text-align: right;\n",
       "    }\n",
       "</style>\n",
       "<table border=\"1\" class=\"dataframe\">\n",
       "  <thead>\n",
       "    <tr style=\"text-align: right;\">\n",
       "      <th></th>\n",
       "      <th>YOB</th>\n",
       "      <th>NKID</th>\n",
       "      <th>DEP</th>\n",
       "      <th>PHON</th>\n",
       "      <th>SINC</th>\n",
       "      <th>AES</th>\n",
       "      <th>DAINC</th>\n",
       "      <th>RES</th>\n",
       "      <th>DHVAL</th>\n",
       "      <th>DMORT</th>\n",
       "      <th>DOUTM</th>\n",
       "      <th>DOUTL</th>\n",
       "      <th>DOUTHP</th>\n",
       "      <th>DOUTCC</th>\n",
       "      <th>BAD</th>\n",
       "    </tr>\n",
       "  </thead>\n",
       "  <tbody>\n",
       "    <tr>\n",
       "      <th>0</th>\n",
       "      <td>19.0</td>\n",
       "      <td>4.0</td>\n",
       "      <td>0.0</td>\n",
       "      <td>1</td>\n",
       "      <td>0.0</td>\n",
       "      <td>R</td>\n",
       "      <td>0.0</td>\n",
       "      <td>O</td>\n",
       "      <td>14464.0</td>\n",
       "      <td>4.0</td>\n",
       "      <td>0.0</td>\n",
       "      <td>0.0</td>\n",
       "      <td>0.0</td>\n",
       "      <td>0.0</td>\n",
       "      <td>0.0</td>\n",
       "    </tr>\n",
       "    <tr>\n",
       "      <th>1</th>\n",
       "      <td>41.0</td>\n",
       "      <td>2.0</td>\n",
       "      <td>0.0</td>\n",
       "      <td>1</td>\n",
       "      <td>0.0</td>\n",
       "      <td>P</td>\n",
       "      <td>36000.0</td>\n",
       "      <td>O</td>\n",
       "      <td>0.0</td>\n",
       "      <td>0.0</td>\n",
       "      <td>280.0</td>\n",
       "      <td>664.0</td>\n",
       "      <td>0.0</td>\n",
       "      <td>80.0</td>\n",
       "      <td>0.0</td>\n",
       "    </tr>\n",
       "    <tr>\n",
       "      <th>2</th>\n",
       "      <td>66.0</td>\n",
       "      <td>0.0</td>\n",
       "      <td>0.0</td>\n",
       "      <td>1</td>\n",
       "      <td>0.0</td>\n",
       "      <td>N</td>\n",
       "      <td>30000.0</td>\n",
       "      <td>N</td>\n",
       "      <td>0.0</td>\n",
       "      <td>0.0</td>\n",
       "      <td>0.0</td>\n",
       "      <td>0.0</td>\n",
       "      <td>0.0</td>\n",
       "      <td>0.0</td>\n",
       "      <td>0.0</td>\n",
       "    </tr>\n",
       "    <tr>\n",
       "      <th>3</th>\n",
       "      <td>51.0</td>\n",
       "      <td>2.0</td>\n",
       "      <td>0.0</td>\n",
       "      <td>1</td>\n",
       "      <td>0.0</td>\n",
       "      <td>P</td>\n",
       "      <td>464.0</td>\n",
       "      <td>O</td>\n",
       "      <td>24928.0</td>\n",
       "      <td>8464.0</td>\n",
       "      <td>584.0</td>\n",
       "      <td>320.0</td>\n",
       "      <td>0.0</td>\n",
       "      <td>60.0</td>\n",
       "      <td>0.0</td>\n",
       "    </tr>\n",
       "    <tr>\n",
       "      <th>4</th>\n",
       "      <td>65.0</td>\n",
       "      <td>0.0</td>\n",
       "      <td>0.0</td>\n",
       "      <td>1</td>\n",
       "      <td>0.0</td>\n",
       "      <td>P</td>\n",
       "      <td>15000.0</td>\n",
       "      <td>P</td>\n",
       "      <td>0.0</td>\n",
       "      <td>0.0</td>\n",
       "      <td>0.0</td>\n",
       "      <td>0.0</td>\n",
       "      <td>0.0</td>\n",
       "      <td>0.0</td>\n",
       "      <td>0.0</td>\n",
       "    </tr>\n",
       "  </tbody>\n",
       "</table>\n",
       "</div>"
      ],
      "text/plain": [
       "    YOB  NKID  DEP  PHON  SINC AES    DAINC RES    DHVAL   DMORT  DOUTM  \\\n",
       "0  19.0   4.0  0.0     1   0.0   R      0.0   O  14464.0     4.0    0.0   \n",
       "1  41.0   2.0  0.0     1   0.0   P  36000.0   O      0.0     0.0  280.0   \n",
       "2  66.0   0.0  0.0     1   0.0   N  30000.0   N      0.0     0.0    0.0   \n",
       "3  51.0   2.0  0.0     1   0.0   P    464.0   O  24928.0  8464.0  584.0   \n",
       "4  65.0   0.0  0.0     1   0.0   P  15000.0   P      0.0     0.0    0.0   \n",
       "\n",
       "   DOUTL  DOUTHP  DOUTCC  BAD  \n",
       "0    0.0     0.0     0.0  0.0  \n",
       "1  664.0     0.0    80.0  0.0  \n",
       "2    0.0     0.0     0.0  0.0  \n",
       "3  320.0     0.0    60.0  0.0  \n",
       "4    0.0     0.0     0.0  0.0  "
      ]
     },
     "execution_count": 2,
     "metadata": {},
     "output_type": "execute_result"
    }
   ],
   "source": [
    "# Load dataset with proper delimiter\n",
    "data = pd.read_csv('credit_data.csv', sep=';')\n",
    "data.head()"
   ]
  },
  {
   "cell_type": "code",
   "execution_count": 3,
   "id": "d576f0e6-09e7-420c-b1a9-3ca8ae294efd",
   "metadata": {},
   "outputs": [],
   "source": [
    "# Rename columns for clarity\n",
    "data.rename(columns={\n",
    "    'YOB': 'year_of_birth',\n",
    "    'NKID': 'num_kids',\n",
    "    'DEP': 'num_dependents',\n",
    "    'PHON': 'has_phone',\n",
    "    'SINC': 'annual_income',\n",
    "    'AES': 'employment_status',\n",
    "    'DAINC': 'declared_income',\n",
    "    'RES': 'residence_status',\n",
    "    'DHVAL': 'home_value',\n",
    "    'DMORT': 'mortgage_due',\n",
    "    'DOUTM': 'outstanding_monthly',\n",
    "    'DOUTL': 'outstanding_loans',\n",
    "    'DOUTHP': 'outstanding_home_loan',\n",
    "    'DOUTCC': 'outstanding_credit_card',\n",
    "    'BAD': 'loan_status'\n",
    "}, inplace=True)\n",
    "\n",
    "# Convert all columns to numeric where possible\n",
    "for col in data.columns:\n",
    "    data[col] = pd.to_numeric(data[col], errors='coerce')\n",
    "\n",
    "\n",
    "data.replace([np.inf, -np.inf], np.nan, inplace=True)\n",
    "data.fillna(0, inplace=True)\n"
   ]
  },
  {
   "cell_type": "code",
   "execution_count": 4,
   "id": "03599ce3-84c0-4dc8-b46d-bad2e6152119",
   "metadata": {},
   "outputs": [],
   "source": [
    "# Basic preprocessing\n",
    "data = data.dropna()"
   ]
  },
  {
   "cell_type": "code",
   "execution_count": 5,
   "id": "573cd5e8-e316-456f-a1e6-bb3c5c698492",
   "metadata": {},
   "outputs": [],
   "source": [
    "# Feature Engineering with domain insights (safe operations)\n",
    "data['dti_ratio'] = data['outstanding_loans'] / data['annual_income'].replace(0, np.nan)\n",
    "data['emi_income_ratio'] = data['outstanding_monthly'] / data['annual_income'].replace(0, np.nan)\n",
    "data['home_equity'] = data['home_value'] - data['mortgage_due']\n",
    "\n",
    "# Replace inf/-inf with NaN\n",
    "data.replace([np.inf, -np.inf], np.nan, inplace=True)\n",
    "\n",
    "# Drop rows with any NaN values created\n",
    "data.dropna(inplace=True)"
   ]
  },
  {
   "cell_type": "code",
   "execution_count": 6,
   "id": "1b6966c4-9ce9-49c8-ac88-b493782689f2",
   "metadata": {},
   "outputs": [],
   "source": [
    "# Set features and target\n",
    "X = data.drop('loan_status', axis=1)\n",
    "y = data['loan_status']"
   ]
  },
  {
   "cell_type": "code",
   "execution_count": 7,
   "id": "a7544a00-ed3a-45bd-b61a-1f06668a64c3",
   "metadata": {},
   "outputs": [],
   "source": [
    "# Encode categorical features\n",
    "X = pd.get_dummies(X, drop_first=True)"
   ]
  },
  {
   "cell_type": "code",
   "execution_count": 8,
   "id": "5216ca18-8804-4206-900d-44c8b6788c42",
   "metadata": {},
   "outputs": [
    {
     "name": "stdout",
     "output_type": "stream",
     "text": [
      "Data shape after cleaning: (317, 18)\n"
     ]
    }
   ],
   "source": [
    "# Save column order for future single user predictions\n",
    "column_order = X.columns\n",
    "\n",
    "print(\"Data shape after cleaning:\", data.shape)\n"
   ]
  },
  {
   "cell_type": "code",
   "execution_count": 9,
   "id": "b6a7b885-5abb-401e-b03e-c542b6397dd4",
   "metadata": {},
   "outputs": [],
   "source": [
    "# Train-test split\n",
    "X_train, X_test, y_train, y_test = train_test_split(X, y, test_size=0.2, random_state=42, stratify=y)"
   ]
  },
  {
   "cell_type": "code",
   "execution_count": 10,
   "id": "afda3d60-d3e0-4611-aabf-93a62759847d",
   "metadata": {},
   "outputs": [],
   "source": [
    "# Feature scaling\n",
    "scaler = StandardScaler()\n",
    "X_train_scaled = scaler.fit_transform(X_train)\n",
    "X_test_scaled = scaler.transform(X_test)"
   ]
  },
  {
   "cell_type": "code",
   "execution_count": 11,
   "id": "1084a846-b047-44c8-9da6-d6b9a34576ee",
   "metadata": {},
   "outputs": [],
   "source": [
    "# Handling class imbalance\n",
    "smote = SMOTE(random_state=42)\n",
    "X_train_resampled, y_train_resampled = smote.fit_resample(X_train_scaled, y_train)"
   ]
  },
  {
   "cell_type": "code",
   "execution_count": 12,
   "id": "524a8528-aa00-4770-a2d2-1e9a76e7fe1c",
   "metadata": {},
   "outputs": [],
   "source": [
    "# Initialize classifiers\n",
    "clf1 = LogisticRegression(solver='liblinear', random_state=42)\n",
    "clf2 = RandomForestClassifier(n_estimators=100, random_state=42)\n",
    "clf3 = SVC(kernel='rbf', probability=True, random_state=42)\n",
    "clf4 = KNeighborsClassifier(n_neighbors=5)"
   ]
  },
  {
   "cell_type": "code",
   "execution_count": 13,
   "id": "884996f6-31ea-4771-ae29-a0fa34e931be",
   "metadata": {},
   "outputs": [],
   "source": [
    "# Ensemble using soft voting\n",
    "ensemble = VotingClassifier(estimators=[\n",
    "    ('lr', clf1),\n",
    "    ('rf', clf2),\n",
    "    ('svm', clf3),\n",
    "    ('knn', clf4)\n",
    "], voting='soft')"
   ]
  },
  {
   "cell_type": "code",
   "execution_count": 14,
   "id": "9b4aa831-bd1d-41a7-b517-d5d3dedb167e",
   "metadata": {},
   "outputs": [
    {
     "data": {
      "text/html": [
       "<style>#sk-container-id-1 {color: black;background-color: white;}#sk-container-id-1 pre{padding: 0;}#sk-container-id-1 div.sk-toggleable {background-color: white;}#sk-container-id-1 label.sk-toggleable__label {cursor: pointer;display: block;width: 100%;margin-bottom: 0;padding: 0.3em;box-sizing: border-box;text-align: center;}#sk-container-id-1 label.sk-toggleable__label-arrow:before {content: \"▸\";float: left;margin-right: 0.25em;color: #696969;}#sk-container-id-1 label.sk-toggleable__label-arrow:hover:before {color: black;}#sk-container-id-1 div.sk-estimator:hover label.sk-toggleable__label-arrow:before {color: black;}#sk-container-id-1 div.sk-toggleable__content {max-height: 0;max-width: 0;overflow: hidden;text-align: left;background-color: #f0f8ff;}#sk-container-id-1 div.sk-toggleable__content pre {margin: 0.2em;color: black;border-radius: 0.25em;background-color: #f0f8ff;}#sk-container-id-1 input.sk-toggleable__control:checked~div.sk-toggleable__content {max-height: 200px;max-width: 100%;overflow: auto;}#sk-container-id-1 input.sk-toggleable__control:checked~label.sk-toggleable__label-arrow:before {content: \"▾\";}#sk-container-id-1 div.sk-estimator input.sk-toggleable__control:checked~label.sk-toggleable__label {background-color: #d4ebff;}#sk-container-id-1 div.sk-label input.sk-toggleable__control:checked~label.sk-toggleable__label {background-color: #d4ebff;}#sk-container-id-1 input.sk-hidden--visually {border: 0;clip: rect(1px 1px 1px 1px);clip: rect(1px, 1px, 1px, 1px);height: 1px;margin: -1px;overflow: hidden;padding: 0;position: absolute;width: 1px;}#sk-container-id-1 div.sk-estimator {font-family: monospace;background-color: #f0f8ff;border: 1px dotted black;border-radius: 0.25em;box-sizing: border-box;margin-bottom: 0.5em;}#sk-container-id-1 div.sk-estimator:hover {background-color: #d4ebff;}#sk-container-id-1 div.sk-parallel-item::after {content: \"\";width: 100%;border-bottom: 1px solid gray;flex-grow: 1;}#sk-container-id-1 div.sk-label:hover label.sk-toggleable__label {background-color: #d4ebff;}#sk-container-id-1 div.sk-serial::before {content: \"\";position: absolute;border-left: 1px solid gray;box-sizing: border-box;top: 0;bottom: 0;left: 50%;z-index: 0;}#sk-container-id-1 div.sk-serial {display: flex;flex-direction: column;align-items: center;background-color: white;padding-right: 0.2em;padding-left: 0.2em;position: relative;}#sk-container-id-1 div.sk-item {position: relative;z-index: 1;}#sk-container-id-1 div.sk-parallel {display: flex;align-items: stretch;justify-content: center;background-color: white;position: relative;}#sk-container-id-1 div.sk-item::before, #sk-container-id-1 div.sk-parallel-item::before {content: \"\";position: absolute;border-left: 1px solid gray;box-sizing: border-box;top: 0;bottom: 0;left: 50%;z-index: -1;}#sk-container-id-1 div.sk-parallel-item {display: flex;flex-direction: column;z-index: 1;position: relative;background-color: white;}#sk-container-id-1 div.sk-parallel-item:first-child::after {align-self: flex-end;width: 50%;}#sk-container-id-1 div.sk-parallel-item:last-child::after {align-self: flex-start;width: 50%;}#sk-container-id-1 div.sk-parallel-item:only-child::after {width: 0;}#sk-container-id-1 div.sk-dashed-wrapped {border: 1px dashed gray;margin: 0 0.4em 0.5em 0.4em;box-sizing: border-box;padding-bottom: 0.4em;background-color: white;}#sk-container-id-1 div.sk-label label {font-family: monospace;font-weight: bold;display: inline-block;line-height: 1.2em;}#sk-container-id-1 div.sk-label-container {text-align: center;}#sk-container-id-1 div.sk-container {/* jupyter's `normalize.less` sets `[hidden] { display: none; }` but bootstrap.min.css set `[hidden] { display: none !important; }` so we also need the `!important` here to be able to override the default hidden behavior on the sphinx rendered scikit-learn.org. See: https://github.com/scikit-learn/scikit-learn/issues/21755 */display: inline-block !important;position: relative;}#sk-container-id-1 div.sk-text-repr-fallback {display: none;}</style><div id=\"sk-container-id-1\" class=\"sk-top-container\"><div class=\"sk-text-repr-fallback\"><pre>VotingClassifier(estimators=[(&#x27;lr&#x27;,\n",
       "                              LogisticRegression(random_state=42,\n",
       "                                                 solver=&#x27;liblinear&#x27;)),\n",
       "                             (&#x27;rf&#x27;, RandomForestClassifier(random_state=42)),\n",
       "                             (&#x27;svm&#x27;, SVC(probability=True, random_state=42)),\n",
       "                             (&#x27;knn&#x27;, KNeighborsClassifier())],\n",
       "                 voting=&#x27;soft&#x27;)</pre><b>In a Jupyter environment, please rerun this cell to show the HTML representation or trust the notebook. <br />On GitHub, the HTML representation is unable to render, please try loading this page with nbviewer.org.</b></div><div class=\"sk-container\" hidden><div class=\"sk-item sk-dashed-wrapped\"><div class=\"sk-label-container\"><div class=\"sk-label sk-toggleable\"><input class=\"sk-toggleable__control sk-hidden--visually\" id=\"sk-estimator-id-1\" type=\"checkbox\" ><label for=\"sk-estimator-id-1\" class=\"sk-toggleable__label sk-toggleable__label-arrow\">VotingClassifier</label><div class=\"sk-toggleable__content\"><pre>VotingClassifier(estimators=[(&#x27;lr&#x27;,\n",
       "                              LogisticRegression(random_state=42,\n",
       "                                                 solver=&#x27;liblinear&#x27;)),\n",
       "                             (&#x27;rf&#x27;, RandomForestClassifier(random_state=42)),\n",
       "                             (&#x27;svm&#x27;, SVC(probability=True, random_state=42)),\n",
       "                             (&#x27;knn&#x27;, KNeighborsClassifier())],\n",
       "                 voting=&#x27;soft&#x27;)</pre></div></div></div><div class=\"sk-parallel\"><div class=\"sk-parallel-item\"><div class=\"sk-item\"><div class=\"sk-label-container\"><div class=\"sk-label sk-toggleable\"><label>lr</label></div></div><div class=\"sk-serial\"><div class=\"sk-item\"><div class=\"sk-estimator sk-toggleable\"><input class=\"sk-toggleable__control sk-hidden--visually\" id=\"sk-estimator-id-2\" type=\"checkbox\" ><label for=\"sk-estimator-id-2\" class=\"sk-toggleable__label sk-toggleable__label-arrow\">LogisticRegression</label><div class=\"sk-toggleable__content\"><pre>LogisticRegression(random_state=42, solver=&#x27;liblinear&#x27;)</pre></div></div></div></div></div></div><div class=\"sk-parallel-item\"><div class=\"sk-item\"><div class=\"sk-label-container\"><div class=\"sk-label sk-toggleable\"><label>rf</label></div></div><div class=\"sk-serial\"><div class=\"sk-item\"><div class=\"sk-estimator sk-toggleable\"><input class=\"sk-toggleable__control sk-hidden--visually\" id=\"sk-estimator-id-3\" type=\"checkbox\" ><label for=\"sk-estimator-id-3\" class=\"sk-toggleable__label sk-toggleable__label-arrow\">RandomForestClassifier</label><div class=\"sk-toggleable__content\"><pre>RandomForestClassifier(random_state=42)</pre></div></div></div></div></div></div><div class=\"sk-parallel-item\"><div class=\"sk-item\"><div class=\"sk-label-container\"><div class=\"sk-label sk-toggleable\"><label>svm</label></div></div><div class=\"sk-serial\"><div class=\"sk-item\"><div class=\"sk-estimator sk-toggleable\"><input class=\"sk-toggleable__control sk-hidden--visually\" id=\"sk-estimator-id-4\" type=\"checkbox\" ><label for=\"sk-estimator-id-4\" class=\"sk-toggleable__label sk-toggleable__label-arrow\">SVC</label><div class=\"sk-toggleable__content\"><pre>SVC(probability=True, random_state=42)</pre></div></div></div></div></div></div><div class=\"sk-parallel-item\"><div class=\"sk-item\"><div class=\"sk-label-container\"><div class=\"sk-label sk-toggleable\"><label>knn</label></div></div><div class=\"sk-serial\"><div class=\"sk-item\"><div class=\"sk-estimator sk-toggleable\"><input class=\"sk-toggleable__control sk-hidden--visually\" id=\"sk-estimator-id-5\" type=\"checkbox\" ><label for=\"sk-estimator-id-5\" class=\"sk-toggleable__label sk-toggleable__label-arrow\">KNeighborsClassifier</label><div class=\"sk-toggleable__content\"><pre>KNeighborsClassifier()</pre></div></div></div></div></div></div></div></div></div></div>"
      ],
      "text/plain": [
       "VotingClassifier(estimators=[('lr',\n",
       "                              LogisticRegression(random_state=42,\n",
       "                                                 solver='liblinear')),\n",
       "                             ('rf', RandomForestClassifier(random_state=42)),\n",
       "                             ('svm', SVC(probability=True, random_state=42)),\n",
       "                             ('knn', KNeighborsClassifier())],\n",
       "                 voting='soft')"
      ]
     },
     "execution_count": 14,
     "metadata": {},
     "output_type": "execute_result"
    }
   ],
   "source": [
    "# Fit ensemble\n",
    "ensemble.fit(X_train_resampled, y_train_resampled)"
   ]
  },
  {
   "cell_type": "code",
   "execution_count": 15,
   "id": "cf89958f-82f5-4845-ba45-463c6a9c5e6b",
   "metadata": {},
   "outputs": [],
   "source": [
    "# Evaluate on test set\n",
    "y_pred = ensemble.predict(X_test_scaled)\n",
    "y_proba = ensemble.predict_proba(X_test_scaled)[:, 1]"
   ]
  },
  {
   "cell_type": "code",
   "execution_count": 16,
   "id": "efe58f95-3906-4230-8a4e-73abdab48a5d",
   "metadata": {},
   "outputs": [
    {
     "name": "stdout",
     "output_type": "stream",
     "text": [
      "\n",
      "Classification Report:\n",
      "              precision    recall  f1-score   support\n",
      "\n",
      "         0.0       0.82      0.62      0.70        50\n",
      "         1.0       0.27      0.50      0.35        14\n",
      "\n",
      "    accuracy                           0.59        64\n",
      "   macro avg       0.54      0.56      0.53        64\n",
      "weighted avg       0.70      0.59      0.63        64\n",
      "\n",
      "Accuracy: 0.59375\n",
      "ROC AUC: 0.6371428571428571\n"
     ]
    }
   ],
   "source": [
    "print(\"\\nClassification Report:\")\n",
    "print(classification_report(y_test, y_pred))\n",
    "print(\"Accuracy:\", accuracy_score(y_test, y_pred))\n",
    "print(\"ROC AUC:\", roc_auc_score(y_test, y_proba))"
   ]
  },
  {
   "cell_type": "code",
   "execution_count": 17,
   "id": "b08c8670-5700-4d53-b0a5-e2235fd43d7e",
   "metadata": {},
   "outputs": [],
   "source": [
    "def predict_single_user(input_dict):\n",
    "    user_df = pd.DataFrame([input_dict])\n",
    "\n",
    "    # Feature Engineering\n",
    "    user_df['annual_income'] = pd.to_numeric(user_df['annual_income'], errors='coerce').replace(0, np.nan)\n",
    "    user_df['dti_ratio'] = user_df['outstanding_loans'] / user_df['annual_income']\n",
    "    user_df['emi_income_ratio'] = user_df['outstanding_monthly'] / user_df['annual_income']\n",
    "    user_df['home_equity'] = user_df['home_value'] - user_df['mortgage_due']\n",
    "\n",
    "    # Data Cleaning\n",
    "    user_df = user_df.apply(pd.to_numeric, errors='coerce')\n",
    "    user_df.replace([np.inf, -np.inf], np.nan, inplace=True)\n",
    "    user_df.fillna(0, inplace=True)\n",
    "\n",
    "    # One-hot encoding and column alignment\n",
    "    user_df = pd.get_dummies(user_df)\n",
    "    user_df = user_df.reindex(columns=column_order, fill_value=0)\n",
    "\n",
    "    # Feature Scaling\n",
    "    user_scaled = scaler.transform(user_df)\n",
    "\n",
    "    # Prediction and Probability\n",
    "    prediction = ensemble.predict(user_scaled)[0]\n",
    "    probability = ensemble.predict_proba(user_scaled)[0, 1]\n",
    "\n",
    "    # Risk Category Logic\n",
    "    if probability < 0.45:\n",
    "        risk_level = \"Low Risk\"\n",
    "        recommendation = \"Eligible for approval with minimal conditions.\"\n",
    "    elif 0.45 <= probability <= 0.55:\n",
    "        risk_level = \"Moderate Risk\"\n",
    "        recommendation = \"Needs additional checks or documentation.\"\n",
    "    else:\n",
    "        risk_level = \"High Risk\"\n",
    "        recommendation = \"High chance of default. Proceed with caution.\"\n",
    "\n",
    "    # Output\n",
    "    print(\"\\n Single User Prediction\")\n",
    "    print(f\"Loan Status Prediction: {'Default' if prediction == 1 else 'No Default'}\")\n",
    "    print(f\"Probability of Default: {probability:.2f}\")\n",
    "    print(f\"Risk Level: {risk_level}\")\n",
    "    print(f\"Recommendation: {recommendation}\")"
   ]
  },
  {
   "cell_type": "code",
   "execution_count": 18,
   "id": "4a86ef10-3ba5-42fc-9a6d-6fc2bc1f37fa",
   "metadata": {},
   "outputs": [
    {
     "name": "stdout",
     "output_type": "stream",
     "text": [
      "\n",
      " Single User Prediction\n",
      "Loan Status Prediction: No Default\n",
      "Probability of Default: 0.11\n",
      "Risk Level: Low Risk\n",
      "Recommendation: Eligible for approval with minimal conditions.\n"
     ]
    }
   ],
   "source": [
    "sample_input = {\n",
    "    'annual_income': 1200000,\n",
    "    'outstanding_loans': 50000,\n",
    "    'outstanding_monthly': 4000,\n",
    "    'home_value': 9000000,\n",
    "    'mortgage_due': 1500000,\n",
    "    'has_phone': 1,\n",
    "    'num_kids': 1,\n",
    "    'employment_status': 1\n",
    "}\n",
    "predict_single_user(sample_input)"
   ]
  },
  {
   "cell_type": "code",
   "execution_count": null,
   "id": "26bd5711-5344-4c80-9282-02c146f45dbc",
   "metadata": {},
   "outputs": [],
   "source": []
  }
 ],
 "metadata": {
  "kernelspec": {
   "display_name": "Python [conda env:base] *",
   "language": "python",
   "name": "conda-base-py"
  },
  "language_info": {
   "codemirror_mode": {
    "name": "ipython",
    "version": 3
   },
   "file_extension": ".py",
   "mimetype": "text/x-python",
   "name": "python",
   "nbconvert_exporter": "python",
   "pygments_lexer": "ipython3",
   "version": "3.11.7"
  }
 },
 "nbformat": 4,
 "nbformat_minor": 5
}
